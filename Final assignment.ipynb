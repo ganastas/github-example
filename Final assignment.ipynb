{
 "cells": [
  {
   "cell_type": "markdown",
   "metadata": {
    "collapsed": true
   },
   "source": [
    "# Business Problem and Understanding"
   ]
  },
  {
   "cell_type": "markdown",
   "metadata": {},
   "source": [
    "#### This data analytics project will concern choosing the best location in Rotterdam to set up a cafe. Rotterdam is a bustling student city and there are already a lot of cafes around. Therefore, the owner would like to know where it is best to set up a cafe. The Neighbourhood should ideally be trendy and visited by people, but there should not be too many cafes already so that the competition is not too high. The owner of the restaurant is interested in knowing the answer to this question, because it will maximize the profit. Therefore, the question is: Which neighbourhood is the best to set up a restaurant given that Rotterdam is a competitive environment for cafes?"
   ]
  },
  {
   "cell_type": "markdown",
   "metadata": {},
   "source": [
    "### Stakeholders"
   ]
  },
  {
   "cell_type": "markdown",
   "metadata": {},
   "source": [
    "#### The owner of the future cafe"
   ]
  },
  {
   "cell_type": "markdown",
   "metadata": {},
   "source": [
    "### Why is the problem important?"
   ]
  },
  {
   "cell_type": "markdown",
   "metadata": {},
   "source": [
    "#### Finding the best location to set up a cafe is crucial because it will maximize the profit of the cafe in question"
   ]
  },
  {
   "cell_type": "markdown",
   "metadata": {},
   "source": [
    "# Data used"
   ]
  },
  {
   "cell_type": "markdown",
   "metadata": {},
   "source": [
    "#### The dataset used includes data on 26 neighbourhoods in Rotterdam together with location and latitude of them. The fields in the datset include: Neighbourhood number, Neighbourhood name, latitude, longitude. \n",
    "\n",
    "#### For the rest, Foursquare API will be used to get the data on trendy places as well as number of cafes per neighbourhood. The dataset on venues extracted from API will include names of the current cafes, their category, address, latitude, longitude, distance, postal code, city, and id. \n",
    "\n",
    "#### These 2 datasets will allow to group and cluster data, and decide where trending locations are as well as which Neighbourhoods have more or less cafes."
   ]
  }
 ],
 "metadata": {
  "kernelspec": {
   "display_name": "Python 3.6",
   "language": "python",
   "name": "python3"
  },
  "language_info": {
   "codemirror_mode": {
    "name": "ipython",
    "version": 3
   },
   "file_extension": ".py",
   "mimetype": "text/x-python",
   "name": "python",
   "nbconvert_exporter": "python",
   "pygments_lexer": "ipython3",
   "version": "3.6.8"
  }
 },
 "nbformat": 4,
 "nbformat_minor": 1
}
